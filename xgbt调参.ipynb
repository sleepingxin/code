{
  "cells": [
    {
      "metadata": {
        "_uuid": "8f2839f25d086af736a60e9eeb907d3b93b6e0e5",
        "_cell_guid": "b1076dfc-b9ad-4769-8c92-a6c4dae69d19",
        "trusted": true
      },
      "cell_type": "code",
      "source": "from sklearn.model_selection import train_test_split\nfrom sklearn import metrics\nfrom  sklearn.datasets  import  make_hastie_10_2\nfrom  sklearn.ensemble  import  GradientBoostingClassifier\nfrom xgboost.sklearn import XGBClassifier\nfrom sklearn.model_selection import GridSearchCV\n\n##载入示例数据 10维度\nX, y = make_hastie_10_2(random_state=0)\nX_train, X_test, y_train, y_test = train_test_split(X, y, test_size=0.5, random_state=0)##test_size测试集合所占比例",
      "execution_count": 1,
      "outputs": []
    },
    {
      "metadata": {
        "trusted": true,
        "_uuid": "4b4e1052223d6f5933aae3547cf0d6e6e50e69b4"
      },
      "cell_type": "code",
      "source": "clf = GradientBoostingClassifier()\nclf.fit(X_train, y_train)\ny_pre= clf.predict(X_test)\ny_pro= clf.predict_proba(X_test)[:,1] \nprint(\"AUC Score : %f\" % metrics.roc_auc_score(y_test, y_pro) )\nprint(\"Accuracy : %.4g\" % metrics.accuracy_score(y_test, y_pre) )",
      "execution_count": 2,
      "outputs": [
        {
          "output_type": "stream",
          "text": "AUC Score : 0.974248\nAccuracy : 0.8995\n",
          "name": "stdout"
        }
      ]
    },
    {
      "metadata": {
        "trusted": true,
        "_uuid": "316b55754334f01a0437480f26f5302c8a01f99e"
      },
      "cell_type": "code",
      "source": "auc_Score=[]\naccuracy=[]\nclf = XGBClassifier()\nclf.fit(X_train, y_train)\ny_pre= clf.predict(X_test)\ny_pro= clf.predict_proba(X_test)[:,1] \nprint( \"AUC Score : %f\" % metrics.roc_auc_score(y_test, y_pro) )\nprint(\"Accuracy : %.4g\" % metrics.accuracy_score(y_test, y_pre))\nauc_Score.append(metrics.roc_auc_score(y_test, y_pro))\naccuracy.append(metrics.accuracy_score(y_test, y_pre))",
      "execution_count": 3,
      "outputs": [
        {
          "output_type": "stream",
          "text": "AUC Score : 0.972424\nAccuracy : 0.8993\n",
          "name": "stdout"
        }
      ]
    },
    {
      "metadata": {
        "trusted": true,
        "_uuid": "c242b594479b287c75d81c21de84ee8f4d83f57d"
      },
      "cell_type": "code",
      "source": "clf = XGBClassifier(\n learning_rate =0.1, #默认0.3\n n_estimators=100, #树的个数\n max_depth=5,\n min_child_weight=1,\n gamma=0,\n subsample=0.8,\n colsample_bytree=0.8,\n objective= 'binary:logistic', #逻辑回归损失函数\n nthread=4,  #cpu线程数\n scale_pos_weight=1,\n seed=27)  #随机种子\nclf.fit(X_train, y_train)\ny_pre= clf.predict(X_test)\ny_pro= clf.predict_proba(X_test)[:,1] \nprint (\"AUC Score : %f\" % metrics.roc_auc_score(y_test, y_pro) )\nprint(\"Accuracy : %.4g\" % metrics.accuracy_score(y_test, y_pre) )\nauc_Score.append(metrics.roc_auc_score(y_test, y_pro))\naccuracy.append(metrics.accuracy_score(y_test, y_pre))",
      "execution_count": 4,
      "outputs": [
        {
          "output_type": "stream",
          "text": "AUC Score : 0.978546\nAccuracy : 0.9133\n",
          "name": "stdout"
        }
      ]
    },
    {
      "metadata": {
        "trusted": true,
        "_uuid": "82f44006e7a17bd236214781cf7037f028d6203f"
      },
      "cell_type": "code",
      "source": "param_test1 = {\n 'max_depth':range(3,10),\n 'min_child_weight':range(1,12)\n}\ngsearch1 = GridSearchCV(estimator = XGBClassifier( learning_rate =0.1, n_estimators=140, max_depth=5,\n min_child_weight=1, gamma=0, subsample=0.8, colsample_bytree=0.8,\n objective= 'binary:logistic', nthread=4, scale_pos_weight=1, seed=27), \n param_grid = param_test1, scoring='roc_auc',n_jobs=4,iid=False, cv=5)\ngsearch1.fit(X_train,y_train)\nauc_Score.append(gsearch1.best_score_)\n#gsearch1.grid_scores_, gsearch1.best_params_, gsearch1.best_score_\ngsearch1.best_params_, gsearch1.best_score_",
      "execution_count": 5,
      "outputs": [
        {
          "output_type": "execute_result",
          "execution_count": 5,
          "data": {
            "text/plain": "({'max_depth': 9, 'min_child_weight': 5}, 0.9838773907351648)"
          },
          "metadata": {}
        }
      ]
    },
    {
      "metadata": {
        "trusted": true,
        "_uuid": "0dc07307a30d459bc5038be34f135c3dde6509c7"
      },
      "cell_type": "code",
      "source": "param_test2 = {\n 'gamma':[i/10.0 for i in range(0,5)]\n}\ngsearch2 = GridSearchCV(estimator = XGBClassifier( learning_rate =0.1, n_estimators=140, max_depth=9,\n min_child_weight=5, gamma=0, subsample=0.8, colsample_bytree=0.8,\n objective= 'binary:logistic', nthread=4, scale_pos_weight=1,seed=27), \n param_grid = param_test2, scoring='roc_auc',n_jobs=4,iid=False, cv=5)\ngsearch2.fit(X_train,y_train)\nauc_Score.append(gsearch2.best_score_)\ngsearch2.best_params_, gsearch2.best_score_",
      "execution_count": 6,
      "outputs": [
        {
          "output_type": "execute_result",
          "execution_count": 6,
          "data": {
            "text/plain": "({'gamma': 0.3}, 0.9840209676917736)"
          },
          "metadata": {}
        }
      ]
    },
    {
      "metadata": {
        "trusted": true,
        "_uuid": "748ef169f83376e56920dbb2dbf23b55e427f9c1"
      },
      "cell_type": "code",
      "source": "param_test3 = {\n 'subsample':[i/10.0 for i in range(6,10)],\n 'colsample_bytree':[i/10.0 for i in range(6,10)]\n}\ngsearch3 = GridSearchCV(estimator = XGBClassifier( learning_rate =0.1, n_estimators=140, max_depth=9,\n min_child_weight=5, gamma=0.3, subsample=0.8, colsample_bytree=0.8,\n objective= 'binary:logistic', nthread=4, scale_pos_weight=1,seed=27), \n param_grid = param_test3, scoring='roc_auc',n_jobs=4,iid=False, cv=5)\ngsearch3.fit(X_train,y_train)\nauc_Score.append(gsearch3.best_score_)\ngsearch3.best_params_, gsearch3.best_score_",
      "execution_count": 8,
      "outputs": [
        {
          "output_type": "execute_result",
          "execution_count": 8,
          "data": {
            "text/plain": "({'colsample_bytree': 0.7, 'subsample': 0.8}, 0.9848344348992006)"
          },
          "metadata": {}
        }
      ]
    },
    {
      "metadata": {
        "trusted": true,
        "_uuid": "d73904055b8ec4d90f1c9d7d411d6cf45a004137"
      },
      "cell_type": "code",
      "source": "param_test4 = {\n 'reg_alpha':[1e-5, 1e-2, 0.001, 0.005, 0.01, 0.05, 1, 100]\n}\ngsearch4 = GridSearchCV(estimator = XGBClassifier( learning_rate =0.1, n_estimators=140, max_depth=9,\n min_child_weight=5, gamma=0.3, subsample=0.8, colsample_bytree=0.7,\n objective= 'binary:logistic', nthread=4, scale_pos_weight=1,seed=27), \n param_grid = param_test4 ,scoring='roc_auc',n_jobs=4,iid=False, cv=5)\ngsearch4.fit(X_train,y_train)\nauc_Score.append(gsearch4.best_score_)\ngsearch4.best_params_, gsearch4.best_score_",
      "execution_count": 12,
      "outputs": [
        {
          "output_type": "execute_result",
          "execution_count": 12,
          "data": {
            "text/plain": "({'reg_alpha': 1e-05}, 0.9848249828668745)"
          },
          "metadata": {}
        }
      ]
    },
    {
      "metadata": {
        "trusted": true,
        "_uuid": "93305f040933327d2c02d194df3b81c3fe8c1c99"
      },
      "cell_type": "code",
      "source": "param_test5 = {\n 'n_estimators':[100,140,200,500,1000,1500]\n}\ngsearch5 = GridSearchCV(estimator = XGBClassifier( learning_rate =0.1, n_estimators=140, max_depth=9,\n                                                  reg_alpha = 1e-05,\n min_child_weight=5, gamma=0.3, subsample=0.8, colsample_bytree=0.7,\n objective= 'binary:logistic', nthread=4, scale_pos_weight=1,seed=27), \n param_grid = param_test5, scoring='roc_auc',n_jobs=4,iid=False, cv=5)\ngsearch5.fit(X_train,y_train)\nauc_Score.append(gsearch5.best_score_)\ngsearch5.best_params_, gsearch5.best_score_",
      "execution_count": 14,
      "outputs": [
        {
          "output_type": "execute_result",
          "execution_count": 14,
          "data": {
            "text/plain": "({'n_estimators': 200}, 0.9856432188465261)"
          },
          "metadata": {}
        }
      ]
    },
    {
      "metadata": {
        "trusted": true,
        "_uuid": "181b29fbc29989f31161fb0bfb9fa47f2916a4fb"
      },
      "cell_type": "code",
      "source": "param_test6 = {\n'learning_rate':[0.01,0.02,0.05,0.1,0.3]\n}\ngsearch6 = GridSearchCV(estimator = XGBClassifier( learning_rate =0.1, n_estimators=200, max_depth=9,\n                                                   reg_alpha = 1e-05,\n min_child_weight=5, gamma=0.3, subsample=0.8, colsample_bytree=0.7,\n objective= 'binary:logistic', nthread=4, scale_pos_weight=1,seed=27), \n param_grid = param_test6, scoring='roc_auc',n_jobs=4,iid=False, cv=5)\ngsearch6.fit(X_train,y_train)\nauc_Score.append(gsearch6.best_score_)\ngsearch6.best_params_, gsearch6.best_score_",
      "execution_count": 16,
      "outputs": [
        {
          "output_type": "execute_result",
          "execution_count": 16,
          "data": {
            "text/plain": "({'learning_rate': 0.1}, 0.9856432188465261)"
          },
          "metadata": {}
        }
      ]
    },
    {
      "metadata": {
        "trusted": true,
        "_uuid": "0d0c5567f74349ac121ba98626bdd8d74bc05fc0"
      },
      "cell_type": "code",
      "source": "#最优\nclf = XGBClassifier(\n learning_rate =0.1, #默认0.3\n n_estimators=200, #树的个数\n max_depth=9,\n min_child_weight=5,\n gamma=0.3,\n subsample=0.8,\n colsample_bytree=0.7,\n objective= 'binary:logistic', #逻辑回归损失函数\n nthread=4,  #cpu线程数\n reg_alpha = 1e-05,\n scale_pos_weight=1,\n seed=27)  #随机种子\nclf.fit(X_train, y_train)\ny_pre= clf.predict(X_test)\ny_pro= clf.predict_proba(X_test)[:,1] \nprint (\"AUC Score : %f\" % metrics.roc_auc_score(y_test, y_pro) )\nprint(\"Accuracy : %.4g\" % metrics.accuracy_score(y_test, y_pre) )\nauc_Score.append(metrics.roc_auc_score(y_test, y_pro))\naccuracy.append(metrics.accuracy_score(y_test, y_pre))",
      "execution_count": 17,
      "outputs": [
        {
          "output_type": "stream",
          "text": "AUC Score : 0.987214\nAccuracy : 0.9362\n",
          "name": "stdout"
        }
      ]
    },
    {
      "metadata": {
        "trusted": true,
        "_uuid": "09994052663d5fbe4fc25ab42cf20992bc473039"
      },
      "cell_type": "code",
      "source": "import matplotlib.pyplot as plt\nfig=plt.figure(figsize=(15,5))\np1=fig.add_subplot(1,2,1)\np1.plot(auc_Score)\np1.set_ylabel('AUC Score')\np1.set_title('AUC Score')\np2=fig.add_subplot(1,2,2)\np2.plot(accuracy)\np2.set_ylabel('accuracy')\np2.set_title('accuracy')\nplt.show()\n#plt.show()",
      "execution_count": 20,
      "outputs": [
        {
          "output_type": "display_data",
          "data": {
            "text/plain": "<Figure size 1080x360 with 2 Axes>",
            "image/png": "[encoded data removed]"
          },
          "metadata": {}
        }
      ]
    },
    {
      "metadata": {
        "trusted": true,
        "_uuid": "df2fea5f3dfade16a5e3aebefffd8630ccd73a55"
      },
      "cell_type": "code",
      "source": "",
      "execution_count": null,
      "outputs": []
    }
  ],
  "metadata": {
    "kernelspec": {
      "display_name": "Python 3",
      "language": "python",
      "name": "python3"
    },
    "language_info": {
      "name": "python",
      "version": "3.6.6",
      "mimetype": "text/x-python",
      "codemirror_mode": {
        "name": "ipython",
        "version": 3
      },
      "pygments_lexer": "ipython3",
      "nbconvert_exporter": "python",
      "file_extension": ".py"
    }
  },
  "nbformat": 4,
  "nbformat_minor": 1
}